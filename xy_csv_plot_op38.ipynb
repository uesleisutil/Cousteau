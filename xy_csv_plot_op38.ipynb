# To add a new cell, type '# %%'
# To add a new markdown cell, type '# %% [markdown]'
# %%
"""
File name:      xy_csv_plot_op38.ipynb
Author:         Ueslei Adriano Sutil
Email:          uesleisutil1@gmail.com
Created:        12 Feb 2020
Last modified:  12 Feb 2020
Version:        1.0

Creates XY graph from CSV file.
"""

# %%
import pandas as pd
import numpy as np
from matplotlib.ticker   import AutoMinorLocator
import matplotlib.pyplot as plt
import matplotlib.dates  as mdates
import matplotlib
import netCDF4
matplotlib.use('Agg')
import warnings
warnings.filterwarnings("ignore")

# %%
# Open CSV file and import variables.
csv_import  = pd.read_csv('/home/ueslei/Documents/INPE/Doutorado/LCAMD/Data/14FEB2020_18FEB2020/data.txt',
                          keep_default_na=True, delimiter=',', header=None,
                          names=['Day','Temp_BME', 'Hum_BME','Pres_BME','Temp_DHT','Hum_DHT','Temp_Frei','Pres_Frei1','Pres_Frei2','Td_Frei','RH_Frei','Temp_EACF','RH_EACF'])
day       = csv_import['Day']
temp_bme  = csv_import['Temp_BME']
temp_bme  = temp_bme.values
hum_bme   = csv_import['Hum_BME']
hum_bme   = hum_bme.values
pres_bme  = csv_import['Pres_BME']
pres_bme  = pres_bme.values
temp_dht  = csv_import['Temp_DHT']
temp_dht  = temp_dht.values
hum_dht   = csv_import['Hum_DHT']
hum_dht   = hum_dht.values

temp_frei   = csv_import['Temp_Frei']
temp_frei   = temp_frei.values
temp_frei_m = np.isfinite(temp_frei)
pres_frei   = csv_import['Pres_Frei1']
pres_frei   = pres_frei.values
pres_frei_m = np.isfinite(pres_frei)
rh_frei     = csv_import['RH_Frei']
rh_frei     = rh_frei.values
rh_frei_m   = np.isfinite(rh_frei)



# Open netCDF file and import variables.
nc_file   = '/home/ueslei/Documents/INPE/Doutorado/LCAMD/Data/14FEB2020_18FEB2020/cfsr2.nc'
nc        = netCDF4.Dataset(nc_file)
temp_cfsr = nc.variables['TMP_L103'][:,10,38]-273.15
rh_cfsr   = nc.variables['R_H_L103'][:,10,38]
pres_cfsr = nc.variables['PRES_L101'][:,10,38]/100


# %%
# Rearrange time.
# First test
# idx   = pd.date_range('2020-02-11 14:35', '2020-02-12 08:40', freq = 'min')
# Second test.
idx   = pd.date_range('2020-02-14 13:00', '2020-02-18 13:00', freq = 'min')
hours = mdates.HourLocator(interval = 6)
h_fmt = mdates.DateFormatter('%d/%M %Hh')

# %%
# Create figures subplots.
fig, axs = plt.subplots(3, 1)
fig.subplots_adjust(wspace=0, hspace=0.12)
# Y-axis range for both plots.
y_major_ticks  = np.arange(0, 24, 2)
y_major_ticks2 = np.arange(30, 100, 5)
y_major_ticks3 = np.arange(980, 997, 2)

# %%
# Plot the figures.
axs[0].plot(idx,temp_bme,label='BME280',linestyle='-',marker='',linewidth=2,color='C0')    
axs[0].plot(idx,temp_dht,label='DHT22',linestyle='-',marker='',linewidth=2,color='crimson')
axs[0].plot(idx[temp_frei_m],temp_frei[temp_frei_m],label='Frei Base (Chile)',linestyle='-',marker='.',linewidth=2,color='black')
axs[0].legend(loc='upper center',fontsize=10)
axs[0].xaxis.set_minor_locator(AutoMinorLocator())
axs[0].yaxis.set_minor_locator(AutoMinorLocator())
axs[0].tick_params(which='both',  width=2)
axs[0].tick_params(which='major', length=7)
axs[0].tick_params(which='minor', length=4)
axs[0].set_yticks(y_major_ticks)
axs[0].set_ylabel('Air Temperature \n [degC]',fontsize=12, labelpad=10)
axs[0].set_title('Protótipo #01 acoplado ao Módulo Meteorológico da EACF  \n 14/02/2020 13:00 a 18/02/2020 13:00')

# %%
axs[1].plot(idx,hum_bme,label='BME280',linestyle='-',marker='',linewidth=2,color='C0')      
axs[1].plot(idx,hum_dht,label='DHT22',linestyle='-',marker='',linewidth=2,color='crimson')
axs[1].plot(idx[rh_frei_m],rh_frei[rh_frei_m],label='Frei Base (Chile)',linestyle='-',marker='.',linewidth=2,color='black')
axs[1].legend(loc='lower center',fontsize=10)
axs[1].xaxis.set_minor_locator(AutoMinorLocator())
axs[1].yaxis.set_minor_locator(AutoMinorLocator())
axs[1].tick_params(which='both',  width=2)
axs[1].tick_params(which='major', length=7)
axs[1].tick_params(which='minor', length=4)
axs[1].set_yticks(y_major_ticks2)
axs[1].set_ylabel('Relative Humidity\n [%]',fontsize=12, labelpad=10)

# %%
axs[2].plot(idx,pres_bme,label='BME280',linestyle='-',marker='',linewidth=2,color='C0')      
#axs[2].plot(time,hum_dht,label='DHT22',linestyle='-',marker='.',linewidth=2,color='crimson')
axs[2].plot(idx[pres_frei_m],pres_frei[pres_frei_m],label='Frei Base (Chile)',linestyle='-',marker='.',linewidth=2,color='black')
axs[2].set_xlabel('Tempo')
axs[2].xaxis.set_visible(True)
axs[2].xaxis.set_major_locator(hours)
axs[2].xaxis.set_major_formatter(h_fmt)
axs[2].legend(loc='upper center',fontsize=10)
axs[2].xaxis.set_minor_locator(AutoMinorLocator())
axs[2].yaxis.set_minor_locator(AutoMinorLocator())
axs[2].tick_params(which='both',  width=2)
axs[2].tick_params(which='major', length=7)
axs[2].tick_params(which='minor', length=4)
axs[2].set_yticks(y_major_ticks3)
axs[2].set_ylabel('Atmospheric Pressure \n [hPa]',fontsize=12)

# Save figure.
fig.set_size_inches(13, 16)
fig.autofmt_xdate()
fig.savefig('xy_plot_op38.png',transparent=False, bbox_inches = 'tight', pad_inches=0, dpi=250)
